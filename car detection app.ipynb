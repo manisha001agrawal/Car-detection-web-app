{
 "cells": [
  {
   "cell_type": "markdown",
   "metadata": {},
   "source": [
    "#### Object Recognition using CNN model\n",
    "\n",
    "##### 📌Task Description 📄\n",
    "\n",
    "###### 👉Create a model that will detect a car and recognize characters on number plate of the car .\n",
    "###### 👉Secondly , it will use the characters and fetch the owners information using RTO API’s .\n",
    "######  👉Create a Web portal where all this information will be displayed (using html,css,and js)"
   ]
  },
  {
   "cell_type": "code",
   "execution_count": 1,
   "metadata": {},
   "outputs": [],
   "source": [
    "import cv2\n",
    "from os import listdir\n",
    "from os.path import isfile, join\n",
    "import easyocr\n",
    "import requests\n",
    "import xmltodict\n",
    "import json\n",
    "import webbrowser"
   ]
  },
  {
   "cell_type": "code",
   "execution_count": 2,
   "metadata": {},
   "outputs": [],
   "source": [
    "no_Plate = cv2.CascadeClassifier(\"haarcascade_russian_plate_number.xml\")"
   ]
  },
  {
   "cell_type": "code",
   "execution_count": 3,
   "metadata": {},
   "outputs": [],
   "source": [
    "img_gray = cv2.imread('car3.png',cv2.IMREAD_GRAYSCALE)"
   ]
  },
  {
   "cell_type": "code",
   "execution_count": 4,
   "metadata": {},
   "outputs": [],
   "source": [
    "cv2.imshow(\"photo\",img_gray)\n",
    "cv2.waitKey()\n",
    "cv2.destroyAllWindows()"
   ]
  },
  {
   "cell_type": "code",
   "execution_count": 5,
   "metadata": {},
   "outputs": [],
   "source": [
    "def get_details_of_vehicle(Reg_no):\n",
    "    r = requests.get(\"http://www.regcheck.org.uk/api/reg.asmx/CheckIndia?RegistrationNumber={0}&username=swastik\".format(str(Reg_no)))\n",
    "    json_data = json.dumps(xmltodict.parse(r.content))\n",
    "    detail = json.loads(json_data)\n",
    "    return json.loads(detail['Vehicle']['vehicleJson'])"
   ]
  },
  {
   "cell_type": "code",
   "execution_count": 6,
   "metadata": {},
   "outputs": [],
   "source": [
    "noPlate = no_Plate.detectMultiScale(img_gray, scaleFactor = 1.05, minNeighbors = 5, minSize = (25,25))"
   ]
  },
  {
   "cell_type": "code",
   "execution_count": 7,
   "metadata": {},
   "outputs": [
    {
     "name": "stderr",
     "output_type": "stream",
     "text": [
      "CUDA not available - defaulting to CPU. Note: This module is much faster with a GPU.\n",
      "C:\\Users\\KIIT\\anaconda3\\lib\\site-packages\\torch\\nn\\functional.py:718: UserWarning: Named tensors and all their associated APIs are an experimental feature and subject to change. Please do not use them for anything important until they are released as stable. (Triggered internally at  ..\\c10/core/TensorImpl.h:1156.)\n",
      "  return torch.max_pool2d(input, kernel_size, stride, padding, dilation, ceil_mode)\n"
     ]
    },
    {
     "name": "stdout",
     "output_type": "stream",
     "text": [
      "Car no is:  KA 05 NB 1786\n"
     ]
    },
    {
     "data": {
      "text/plain": [
       "True"
      ]
     },
     "execution_count": 7,
     "metadata": {},
     "output_type": "execute_result"
    }
   ],
   "source": [
    "if len(noPlate) > 0:\n",
    "    for (x,y,w,h) in noPlate:\n",
    "        area = w*h\n",
    "        if area > 200:\n",
    "            cv2.rectangle(img_gray,(x-20,y), (x+w,y+h),(255,0,255),2)\n",
    "            cv2.putText(img_gray,'Number Plate',(x,y-5),cv2.FONT_HERSHEY_SIMPLEX,0.5,(255,0,255),1)\n",
    "            no_plate_img = img_gray[y:y+h,x:x+w]\n",
    "    reader = easyocr.Reader(['en'])\n",
    "    result = reader.readtext(no_plate_img)\n",
    "    reg_no = list(result[-1])[:][:][1]\n",
    "    print('Car no is: ',reg_no)\n",
    "    cv2.imshow('Car photo',img_gray)\n",
    "    cv2.waitKey()\n",
    "    cv2.destroyAllWindows()\n",
    "det = get_details_of_vehicle(reg_no)\n",
    "webbrowser.open(f'http://192.168.43.51/cgi-bin/car.py?x={det}')"
   ]
  },
  {
   "cell_type": "code",
   "execution_count": null,
   "metadata": {},
   "outputs": [],
   "source": [
    "Thank you:)"
   ]
  }
 ],
 "metadata": {
  "kernelspec": {
   "display_name": "Python 3",
   "language": "python",
   "name": "python3"
  },
  "language_info": {
   "codemirror_mode": {
    "name": "ipython",
    "version": 3
   },
   "file_extension": ".py",
   "mimetype": "text/x-python",
   "name": "python",
   "nbconvert_exporter": "python",
   "pygments_lexer": "ipython3",
   "version": "3.8.3"
  }
 },
 "nbformat": 4,
 "nbformat_minor": 4
}
